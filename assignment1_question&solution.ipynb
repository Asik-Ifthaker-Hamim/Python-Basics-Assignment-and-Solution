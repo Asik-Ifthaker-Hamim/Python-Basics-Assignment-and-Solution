{
 "cells": [
  {
   "cell_type": "markdown",
   "metadata": {},
   "source": [
    "# Lesson 1.2: Python Basics\n",
    "## Topics Covered:\n",
    "- Syntax and Semantics\n",
    "- Variables and Data Types\n",
    "- Basic Operators (Arithmetic, Comparison, Logical)\n"
   ]
  },
  {
   "cell_type": "markdown",
   "metadata": {},
   "source": [
    "## 1. Syntax and Semantics\n",
    "\n",
    "**Question 1:** Write a Python program to print \"Hello, World!\"."
   ]
  },
  {
   "cell_type": "code",
   "execution_count": 1,
   "metadata": {},
   "outputs": [
    {
     "name": "stdout",
     "output_type": "stream",
     "text": [
      "Hello,World!\n"
     ]
    }
   ],
   "source": [
    "# Your code here\n",
    "print(\"Hello,World!\")"
   ]
  },
  {
   "cell_type": "markdown",
   "metadata": {},
   "source": [
    "**Question 2:** Write a Python program that takes a user input and prints it."
   ]
  },
  {
   "cell_type": "code",
   "execution_count": 2,
   "metadata": {},
   "outputs": [
    {
     "name": "stdout",
     "output_type": "stream",
     "text": [
      "2\n"
     ]
    }
   ],
   "source": [
    "# Your code here\n",
    "x=int(input(\"Enter any number\"))\n",
    "print(x)"
   ]
  },
  {
   "cell_type": "markdown",
   "metadata": {},
   "source": [
    "**Question 3:** Write a Python program to check if a number is positive, negative, or zero."
   ]
  },
  {
   "cell_type": "code",
   "execution_count": 6,
   "metadata": {},
   "outputs": [
    {
     "name": "stdout",
     "output_type": "stream",
     "text": [
      "Zero\n"
     ]
    }
   ],
   "source": [
    "# Your code here\n",
    "x=int(input(\"Enter any number\"))\n",
    "if x>0:\n",
    "    print(\"Positive\")\n",
    "elif x==0:\n",
    "    print(\"Zero\")\n",
    "else:\n",
    "    print(\"Negative\")"
   ]
  },
  {
   "cell_type": "markdown",
   "metadata": {},
   "source": [
    "**Question 4:** Write a Python program to find the largest of three numbers."
   ]
  },
  {
   "cell_type": "code",
   "execution_count": 7,
   "metadata": {},
   "outputs": [
    {
     "name": "stdout",
     "output_type": "stream",
     "text": [
      "3\n"
     ]
    }
   ],
   "source": [
    "# Your code here\n",
    "x=int(input(\"Enter 1st number\"))\n",
    "y=int(input(\"Enter 2nd number\"))\n",
    "z=int(input(\"Enter 3rd number\"))\n",
    "a=max(x,y)\n",
    "a=max(a,z)\n",
    "print(a)"
   ]
  },
  {
   "cell_type": "markdown",
   "metadata": {},
   "source": [
    "**Question 5:** Write a Python program to calculate the factorial of a number."
   ]
  },
  {
   "cell_type": "code",
   "execution_count": 14,
   "metadata": {},
   "outputs": [
    {
     "name": "stdout",
     "output_type": "stream",
     "text": [
      "120\n",
      "The factorial of 5 is 120\n"
     ]
    }
   ],
   "source": [
    "# Your code here\n",
    "x=int(input(\"Enter any number\"))\n",
    "a=1\n",
    "for y in range(1,x+1):\n",
    "    a=a*y\n",
    "print(a)\n",
    "def factorial(n):\n",
    "    if n == 0:\n",
    "        return 1\n",
    "    else:\n",
    "        return n * factorial(n-1)\n",
    "\n",
    "print(f\"The factorial of {x} is {factorial(x)}\")"
   ]
  },
  {
   "cell_type": "markdown",
   "metadata": {},
   "source": [
    "## 2. Variables and Data Types\n",
    "\n",
    "**Question 6:** Create variables of different data types: integer, float, string, and boolean. Print their values and types."
   ]
  },
  {
   "cell_type": "code",
   "execution_count": 13,
   "metadata": {},
   "outputs": [
    {
     "name": "stdout",
     "output_type": "stream",
     "text": [
      "2 <class 'int'>\n",
      "hamim <class 'str'>\n",
      "2.1 <class 'float'>\n",
      "True <class 'bool'>\n"
     ]
    }
   ],
   "source": [
    "# Your code here\n",
    "a=2\n",
    "b=\"hamim\"\n",
    "c=2.1\n",
    "is_bool=True\n",
    "print(a,type(a))\n",
    "print(b,type(b))\n",
    "print(c,type(c))\n",
    "print(is_bool,type(is_bool))"
   ]
  },
  {
   "cell_type": "markdown",
   "metadata": {},
   "source": [
    "**Question 7:** Write a Python program to swap the values of two variables."
   ]
  },
  {
   "cell_type": "code",
   "execution_count": 16,
   "metadata": {},
   "outputs": [
    {
     "name": "stdout",
     "output_type": "stream",
     "text": [
      "3 2\n"
     ]
    }
   ],
   "source": [
    "# Your code here\n",
    "x=int(input(\"Enter 1st number\"))\n",
    "y=int(input(\"Enter 2nd number\"))\n",
    "x,y=y,x\n",
    "print(x,y)"
   ]
  },
  {
   "cell_type": "markdown",
   "metadata": {},
   "source": [
    "**Question 8:** Write a Python program to convert Celsius to Fahrenheit."
   ]
  },
  {
   "cell_type": "code",
   "execution_count": 16,
   "metadata": {},
   "outputs": [
    {
     "name": "stdout",
     "output_type": "stream",
     "text": [
      "Temperature in Fahrenheit is :  78.8\n"
     ]
    }
   ],
   "source": [
    "# Your code here\n",
    "c=float(input(\"Enter Temperature in Celcius\"))\n",
    "f=(c*9/5)+32\n",
    "print(\"Temperature in Fahrenheit is : \",f)"
   ]
  },
  {
   "cell_type": "markdown",
   "metadata": {},
   "source": [
    "**Question 9:** Write a Python program to concatenate two strings."
   ]
  },
  {
   "cell_type": "code",
   "execution_count": 17,
   "metadata": {},
   "outputs": [
    {
     "name": "stdout",
     "output_type": "stream",
     "text": [
      "asik hamim\n"
     ]
    }
   ],
   "source": [
    "# Your code here\n",
    "x=input(\"Enter 1st string\")\n",
    "y=input(\"Enter 2nd string\")\n",
    "print(x+\" \"+y)"
   ]
  },
  {
   "cell_type": "markdown",
   "metadata": {},
   "source": [
    "**Question 10:** Write a Python program to check if a variable is of a specific data type."
   ]
  },
  {
   "cell_type": "code",
   "execution_count": 19,
   "metadata": {},
   "outputs": [
    {
     "name": "stdout",
     "output_type": "stream",
     "text": [
      "False\n"
     ]
    }
   ],
   "source": [
    "# Your code here\n",
    "x=2\n",
    "if type(x)==\"str\":\n",
    "    print(True)\n",
    "else:\n",
    "    print(False)"
   ]
  },
  {
   "cell_type": "markdown",
   "metadata": {},
   "source": [
    "## 3. Basic Operators (Arithmetic, Comparison, Logical)\n",
    "\n",
    "**Question 11:** Write a Python program to perform arithmetic operations: addition, subtraction, multiplication, and division."
   ]
  },
  {
   "cell_type": "code",
   "execution_count": 23,
   "metadata": {},
   "outputs": [
    {
     "name": "stdout",
     "output_type": "stream",
     "text": [
      "7 + 2 = 9\n",
      "7 - 2 = 5\n",
      "7 * 2 = 14\n",
      "7 / 2 = 3.5\n"
     ]
    }
   ],
   "source": [
    "# Your code here\n",
    "a=int(input(\"Enter 1st Number\"))\n",
    "b=int(input(\"Enter 2nd Number\"))\n",
    "add_result=a+b #add\n",
    "sub_result=a-b  #sub\n",
    "multi_result=a*b #multi\n",
    "div_result=a/b\n",
    "\n",
    "\n",
    "print(a,\"+\",b,\"=\",add_result)\n",
    "print(a,\"-\",b,\"=\",sub_result)\n",
    "print(a,\"*\",b,\"=\",multi_result)\n",
    "print(a,\"/\",b,\"=\",div_result)\n"
   ]
  },
  {
   "cell_type": "markdown",
   "metadata": {},
   "source": [
    "**Question 12:** Write a Python program to demonstrate comparison operators: equal to, not equal to, greater than, less than."
   ]
  },
  {
   "cell_type": "code",
   "execution_count": 26,
   "metadata": {},
   "outputs": [
    {
     "name": "stdout",
     "output_type": "stream",
     "text": [
      "Not Equal\n",
      "2 Less than 5\n"
     ]
    }
   ],
   "source": [
    "# Your code here\n",
    "a=int(input(\"Enter 1st Number\"))\n",
    "b=int(input(\"Enter 2nd Number\"))\n",
    "if a==b:\n",
    "    print(\"Equal\")\n",
    "if a!=b:\n",
    "    print(\"Not Equal\")\n",
    "if a>b:\n",
    "    print(a,\"Greater than\",b)\n",
    "if a<b:\n",
    "    print(a,\"Less than\",b)"
   ]
  },
  {
   "cell_type": "markdown",
   "metadata": {},
   "source": [
    "**Question 13:** Write a Python program to demonstrate logical operators: and, or, not."
   ]
  },
  {
   "cell_type": "code",
   "execution_count": 31,
   "metadata": {},
   "outputs": [
    {
     "name": "stdout",
     "output_type": "stream",
     "text": [
      "True\n",
      "True\n",
      "False\n"
     ]
    }
   ],
   "source": [
    "# Your code here\n",
    "a=2\n",
    "b=2\n",
    "c=True\n",
    "if a and b == 2:\n",
    "    print(True)\n",
    "if a or b == 2:\n",
    "    print(True)\n",
    "print(not(c))\n",
    "\n"
   ]
  },
  {
   "cell_type": "markdown",
   "metadata": {},
   "source": [
    "**Question 14:** Write a Python program to calculate the square of a number."
   ]
  },
  {
   "cell_type": "code",
   "execution_count": 18,
   "metadata": {},
   "outputs": [
    {
     "name": "stdout",
     "output_type": "stream",
     "text": [
      "16\n",
      "16\n"
     ]
    }
   ],
   "source": [
    "# Your code here\n",
    "a=int(input(\"Enter a Number\"))\n",
    "print(a*a)\n",
    "print(a**2)"
   ]
  },
  {
   "cell_type": "markdown",
   "metadata": {},
   "source": [
    "**Question 15:** Write a Python program to check if a number is even or odd."
   ]
  },
  {
   "cell_type": "code",
   "execution_count": 33,
   "metadata": {},
   "outputs": [
    {
     "name": "stdout",
     "output_type": "stream",
     "text": [
      "Odd\n"
     ]
    }
   ],
   "source": [
    "# Your code here\n",
    "a=int(input(\"Enter a Number\"))\n",
    "if a%2==0:\n",
    "    print(\"Even\")\n",
    "else:\n",
    "    print(\"Odd\")"
   ]
  },
  {
   "cell_type": "markdown",
   "metadata": {},
   "source": [
    "**Question 16:** Write a Python program to find the sum of the first n natural numbers."
   ]
  },
  {
   "cell_type": "code",
   "execution_count": 2,
   "metadata": {},
   "outputs": [
    {
     "name": "stdout",
     "output_type": "stream",
     "text": [
      "Sum of First  5  numbers =  15.0\n"
     ]
    }
   ],
   "source": [
    "# Your code here\n",
    "x=int(input(\"Enter any number\"))\n",
    "sum=x*(x+1)/2\n",
    "print(\"Sum of First \",x,\" numbers = \",sum)"
   ]
  },
  {
   "cell_type": "markdown",
   "metadata": {},
   "source": [
    "**Question 17:** Write a Python program to check if a year is a leap year."
   ]
  },
  {
   "cell_type": "code",
   "execution_count": 6,
   "metadata": {},
   "outputs": [
    {
     "name": "stdout",
     "output_type": "stream",
     "text": [
      "2014  is not a Leap Year\n"
     ]
    }
   ],
   "source": [
    "# Your code here\n",
    "x=int(input(\"Enter any year\"))\n",
    "if x%4==0:\n",
    "    if x%100==0:\n",
    "        if x%400==0:\n",
    "            print(x,\" is a Leap Year\")\n",
    "        else:\n",
    "            print(x,\" is not a Leap Year\")\n",
    "    else:\n",
    "        print(x,\" is a Leap Year\")\n",
    "else:\n",
    "    print(x,\" is not a Leap Year\")"
   ]
  },
  {
   "cell_type": "markdown",
   "metadata": {},
   "source": [
    "**Question 18:** Write a Python program to reverse a string."
   ]
  },
  {
   "cell_type": "code",
   "execution_count": null,
   "metadata": {},
   "outputs": [
    {
     "name": "stdout",
     "output_type": "stream",
     "text": [
      "mimah\n",
      "h\n",
      "a\n",
      "m\n",
      "i\n",
      "m\n"
     ]
    }
   ],
   "source": [
    "# Your code here\n",
    "x=input(\"Write any string\")\n",
    "print(x[::-1]) # the slice statement [::-1] means start \n",
    "               # at the end of the string and end at \n",
    "               # position 0, move with the step -1, \n",
    "               # negative one, which means one step backwards."
   ]
  },
  {
   "cell_type": "markdown",
   "metadata": {},
   "source": [
    "**Question 19:** Write a Python program to check if a string is a palindrome."
   ]
  },
  {
   "cell_type": "code",
   "execution_count": 20,
   "metadata": {},
   "outputs": [
    {
     "name": "stdout",
     "output_type": "stream",
     "text": [
      "Palindrome\n"
     ]
    }
   ],
   "source": [
    "# Your code here\n",
    "x=input(\"Write any string\")\n",
    "y=x[::-1]\n",
    "if x==y:\n",
    "    print(\"Palindrome\")\n",
    "else:\n",
    "    print(\"Not Palindrome\")"
   ]
  },
  {
   "cell_type": "markdown",
   "metadata": {},
   "source": [
    "**Question 20:** Write a Python program to sort a list of numbers in ascending order."
   ]
  },
  {
   "cell_type": "code",
   "execution_count": 21,
   "metadata": {},
   "outputs": [
    {
     "name": "stdout",
     "output_type": "stream",
     "text": [
      "Sorted list: [1, 3, 3, 4, 5, 5, 8]\n"
     ]
    }
   ],
   "source": [
    "# Your code here\n",
    "numbers=[int(x) for x in input(\"Enter numbers separated by space\").split()]\n",
    "numbers.sort()\n",
    "print(f\"Sorted list: {numbers}\")"
   ]
  }
 ],
 "metadata": {
  "kernelspec": {
   "display_name": "Python 3",
   "language": "python",
   "name": "python3"
  },
  "language_info": {
   "codemirror_mode": {
    "name": "ipython",
    "version": 3
   },
   "file_extension": ".py",
   "mimetype": "text/x-python",
   "name": "python",
   "nbconvert_exporter": "python",
   "pygments_lexer": "ipython3",
   "version": "3.12.0"
  }
 },
 "nbformat": 4,
 "nbformat_minor": 4
}
